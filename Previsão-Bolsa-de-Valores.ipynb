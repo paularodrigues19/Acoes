{
 "cells": [
  {
   "cell_type": "code",
   "execution_count": 1,
   "id": "1f8d30db",
   "metadata": {},
   "outputs": [],
   "source": [
    "# Importing Libraries\n",
    "\n",
    "# pip install pandas-datareader\n",
    "from pandas_datareader import data as web\n",
    "import pandas as pd\n",
    "from sklearn.feature_selection import SelectKBest\n",
    "from sklearn.model_selection import GridSearchCV\n",
    "from sklearn.neural_network import MLPRegressor\n",
    "from sklearn.preprocessing import MinMaxScaler\n",
    "from sklearn import datasets, linear_model\n",
    "from sklearn.metrics import mean_squared_error, r2_score\n",
    "# pip install matplotlib\n",
    "import matplotlib.pyplot as plt\n",
    "%matplotlib inline"
   ]
  },
  {
   "cell_type": "code",
   "execution_count": 2,
   "id": "1d3464fa",
   "metadata": {
    "scrolled": true
   },
   "outputs": [
    {
     "data": {
      "text/plain": [
       "0      2009-12-01\n",
       "1      2009-12-02\n",
       "2      2009-12-03\n",
       "3      2009-12-04\n",
       "4      2009-12-07\n",
       "          ...    \n",
       "3066   2022-04-29\n",
       "3067   2022-05-02\n",
       "3068   2022-05-03\n",
       "3069   2022-05-04\n",
       "3070   2022-05-05\n",
       "Name: Date, Length: 3071, dtype: datetime64[ns]"
      ]
     },
     "execution_count": 2,
     "metadata": {},
     "output_type": "execute_result"
    }
   ],
   "source": [
    "cotacao_bovespa = web.DataReader('^BVSP', data_source='yahoo', start='12-01-2009', end='12-01-2022')\n",
    "modified = cotacao_bovespa.reset_index()\n",
    "modified['Date']\n",
    "#cotacao_bovespa"
   ]
  },
  {
   "cell_type": "markdown",
   "id": "8ad06e03",
   "metadata": {},
   "source": []
  },
  {
   "cell_type": "code",
   "execution_count": 3,
   "id": "4245bfd9",
   "metadata": {},
   "outputs": [
    {
     "data": {
      "text/plain": [
       "Date         datetime64[ns]\n",
       "High                float64\n",
       "Low                 float64\n",
       "Open                float64\n",
       "Close               float64\n",
       "Volume              float64\n",
       "Adj Close           float64\n",
       "dtype: object"
      ]
     },
     "execution_count": 3,
     "metadata": {},
     "output_type": "execute_result"
    }
   ],
   "source": [
    "modified.dtypes"
   ]
  },
  {
   "cell_type": "code",
   "execution_count": 4,
   "id": "73516853",
   "metadata": {},
   "outputs": [],
   "source": [
    "modified['mm5d'] = modified['Close'].rolling(5).mean()\n",
    "modified['mm21d'] = modified['Close'].rolling(21).mean()\n"
   ]
  },
  {
   "cell_type": "code",
   "execution_count": 5,
   "id": "a528549c",
   "metadata": {},
   "outputs": [
    {
     "data": {
      "text/html": [
       "<div>\n",
       "<style scoped>\n",
       "    .dataframe tbody tr th:only-of-type {\n",
       "        vertical-align: middle;\n",
       "    }\n",
       "\n",
       "    .dataframe tbody tr th {\n",
       "        vertical-align: top;\n",
       "    }\n",
       "\n",
       "    .dataframe thead th {\n",
       "        text-align: right;\n",
       "    }\n",
       "</style>\n",
       "<table border=\"1\" class=\"dataframe\">\n",
       "  <thead>\n",
       "    <tr style=\"text-align: right;\">\n",
       "      <th></th>\n",
       "      <th>High</th>\n",
       "      <th>Low</th>\n",
       "      <th>Open</th>\n",
       "      <th>Close</th>\n",
       "      <th>Volume</th>\n",
       "      <th>Adj Close</th>\n",
       "    </tr>\n",
       "    <tr>\n",
       "      <th>Date</th>\n",
       "      <th></th>\n",
       "      <th></th>\n",
       "      <th></th>\n",
       "      <th></th>\n",
       "      <th></th>\n",
       "      <th></th>\n",
       "    </tr>\n",
       "  </thead>\n",
       "  <tbody>\n",
       "    <tr>\n",
       "      <th>2009-12-01</th>\n",
       "      <td>68616.0000</td>\n",
       "      <td>67051.00000</td>\n",
       "      <td>67051.0000</td>\n",
       "      <td>68546.000000</td>\n",
       "      <td>2326400.0</td>\n",
       "      <td>68546.000000</td>\n",
       "    </tr>\n",
       "    <tr>\n",
       "      <th>2009-12-02</th>\n",
       "      <td>69139.0000</td>\n",
       "      <td>68412.00000</td>\n",
       "      <td>68412.0000</td>\n",
       "      <td>68615.000000</td>\n",
       "      <td>1362000.0</td>\n",
       "      <td>68615.000000</td>\n",
       "    </tr>\n",
       "    <tr>\n",
       "      <th>2009-12-03</th>\n",
       "      <td>69336.0000</td>\n",
       "      <td>68308.00000</td>\n",
       "      <td>68622.0000</td>\n",
       "      <td>68315.000000</td>\n",
       "      <td>1223400.0</td>\n",
       "      <td>68315.000000</td>\n",
       "    </tr>\n",
       "    <tr>\n",
       "      <th>2009-12-04</th>\n",
       "      <td>69361.0000</td>\n",
       "      <td>67328.00000</td>\n",
       "      <td>68316.0000</td>\n",
       "      <td>67604.000000</td>\n",
       "      <td>1410600.0</td>\n",
       "      <td>67604.000000</td>\n",
       "    </tr>\n",
       "    <tr>\n",
       "      <th>2009-12-07</th>\n",
       "      <td>68866.0000</td>\n",
       "      <td>67611.00000</td>\n",
       "      <td>67611.0000</td>\n",
       "      <td>68512.000000</td>\n",
       "      <td>1186200.0</td>\n",
       "      <td>68512.000000</td>\n",
       "    </tr>\n",
       "    <tr>\n",
       "      <th>...</th>\n",
       "      <td>...</td>\n",
       "      <td>...</td>\n",
       "      <td>...</td>\n",
       "      <td>...</td>\n",
       "      <td>...</td>\n",
       "      <td>...</td>\n",
       "    </tr>\n",
       "    <tr>\n",
       "      <th>2022-04-29</th>\n",
       "      <td>111819.0000</td>\n",
       "      <td>107876.00000</td>\n",
       "      <td>109922.0000</td>\n",
       "      <td>107876.000000</td>\n",
       "      <td>13662200.0</td>\n",
       "      <td>107876.000000</td>\n",
       "    </tr>\n",
       "    <tr>\n",
       "      <th>2022-05-02</th>\n",
       "      <td>107884.0000</td>\n",
       "      <td>105218.00000</td>\n",
       "      <td>107876.0000</td>\n",
       "      <td>106639.000000</td>\n",
       "      <td>11935100.0</td>\n",
       "      <td>106639.000000</td>\n",
       "    </tr>\n",
       "    <tr>\n",
       "      <th>2022-05-03</th>\n",
       "      <td>107127.0000</td>\n",
       "      <td>106033.00000</td>\n",
       "      <td>106640.0000</td>\n",
       "      <td>106528.000000</td>\n",
       "      <td>9935500.0</td>\n",
       "      <td>106528.000000</td>\n",
       "    </tr>\n",
       "    <tr>\n",
       "      <th>2022-05-04</th>\n",
       "      <td>108382.0000</td>\n",
       "      <td>104933.00000</td>\n",
       "      <td>106529.0000</td>\n",
       "      <td>108344.000000</td>\n",
       "      <td>0.0</td>\n",
       "      <td>108344.000000</td>\n",
       "    </tr>\n",
       "    <tr>\n",
       "      <th>2022-05-05</th>\n",
       "      <td>108336.8125</td>\n",
       "      <td>106233.40625</td>\n",
       "      <td>108336.8125</td>\n",
       "      <td>106337.101562</td>\n",
       "      <td>0.0</td>\n",
       "      <td>106337.101562</td>\n",
       "    </tr>\n",
       "  </tbody>\n",
       "</table>\n",
       "<p>3071 rows × 6 columns</p>\n",
       "</div>"
      ],
      "text/plain": [
       "                   High           Low         Open          Close      Volume  \\\n",
       "Date                                                                            \n",
       "2009-12-01   68616.0000   67051.00000   67051.0000   68546.000000   2326400.0   \n",
       "2009-12-02   69139.0000   68412.00000   68412.0000   68615.000000   1362000.0   \n",
       "2009-12-03   69336.0000   68308.00000   68622.0000   68315.000000   1223400.0   \n",
       "2009-12-04   69361.0000   67328.00000   68316.0000   67604.000000   1410600.0   \n",
       "2009-12-07   68866.0000   67611.00000   67611.0000   68512.000000   1186200.0   \n",
       "...                 ...           ...          ...            ...         ...   \n",
       "2022-04-29  111819.0000  107876.00000  109922.0000  107876.000000  13662200.0   \n",
       "2022-05-02  107884.0000  105218.00000  107876.0000  106639.000000  11935100.0   \n",
       "2022-05-03  107127.0000  106033.00000  106640.0000  106528.000000   9935500.0   \n",
       "2022-05-04  108382.0000  104933.00000  106529.0000  108344.000000         0.0   \n",
       "2022-05-05  108336.8125  106233.40625  108336.8125  106337.101562         0.0   \n",
       "\n",
       "                Adj Close  \n",
       "Date                       \n",
       "2009-12-01   68546.000000  \n",
       "2009-12-02   68615.000000  \n",
       "2009-12-03   68315.000000  \n",
       "2009-12-04   67604.000000  \n",
       "2009-12-07   68512.000000  \n",
       "...                   ...  \n",
       "2022-04-29  107876.000000  \n",
       "2022-05-02  106639.000000  \n",
       "2022-05-03  106528.000000  \n",
       "2022-05-04  108344.000000  \n",
       "2022-05-05  106337.101562  \n",
       "\n",
       "[3071 rows x 6 columns]"
      ]
     },
     "execution_count": 5,
     "metadata": {},
     "output_type": "execute_result"
    }
   ],
   "source": [
    "cotacao_bovespa"
   ]
  },
  {
   "cell_type": "code",
   "execution_count": 6,
   "id": "10d21a51",
   "metadata": {},
   "outputs": [],
   "source": [
    "modified['Close'] = modified['Close'].shift(-1)"
   ]
  },
  {
   "cell_type": "code",
   "execution_count": 7,
   "id": "66f8d25e",
   "metadata": {},
   "outputs": [],
   "source": [
    "modified.dropna(inplace=True)"
   ]
  },
  {
   "cell_type": "code",
   "execution_count": 8,
   "id": "89a15881",
   "metadata": {},
   "outputs": [
    {
     "name": "stdout",
     "output_type": "stream",
     "text": [
      "3050\n",
      "2135\n",
      "824\n",
      "91\n"
     ]
    }
   ],
   "source": [
    "qtd_linhas = len(modified)\n",
    "qtd_linhas_treino = round(qtd_linhas*0.7)\n",
    "qtd_linhas_teste = round(qtd_linhas*0.27)\n",
    "\n",
    "qtd_linhas_validacao = qtd_linhas - (qtd_linhas_treino + qtd_linhas_teste)\n",
    "\n",
    "# Mostrando as quantidades de linhas\n",
    "\n",
    "print(qtd_linhas)\n",
    "print(qtd_linhas_treino)\n",
    "print(qtd_linhas_teste)\n",
    "\n",
    "print(qtd_linhas_validacao)\n"
   ]
  },
  {
   "cell_type": "code",
   "execution_count": 9,
   "id": "b1e882e0",
   "metadata": {},
   "outputs": [],
   "source": [
    "#cotacao_bovespa = cotacao_bovespa.reset_index(drop=True)"
   ]
  },
  {
   "cell_type": "code",
   "execution_count": 10,
   "id": "1ffce4dc",
   "metadata": {},
   "outputs": [
    {
     "data": {
      "text/plain": [
       "20     2010-01-04\n",
       "21     2010-01-05\n",
       "22     2010-01-06\n",
       "23     2010-01-07\n",
       "24     2010-01-08\n",
       "          ...    \n",
       "3065   2022-04-28\n",
       "3066   2022-04-29\n",
       "3067   2022-05-02\n",
       "3068   2022-05-03\n",
       "3069   2022-05-04\n",
       "Name: Date, Length: 3050, dtype: datetime64[ns]"
      ]
     },
     "execution_count": 10,
     "metadata": {},
     "output_type": "execute_result"
    }
   ],
   "source": [
    "#cotacao_bovespa.dtypes\n",
    "modified['Date']"
   ]
  },
  {
   "cell_type": "code",
   "execution_count": 11,
   "id": "09b64337",
   "metadata": {},
   "outputs": [
    {
     "name": "stderr",
     "output_type": "stream",
     "text": [
      "C:\\Users\\paula\\AppData\\Local\\Temp\\ipykernel_14216\\249702833.py:2: FutureWarning: In a future version of pandas all arguments of DataFrame.drop except for the argument 'labels' will be keyword-only\n",
      "  features = modified.drop(['Close', 'Volume', 'Adj Close', 'Date'], 1)\n"
     ]
    }
   ],
   "source": [
    "#Separando as features e labels\n",
    "features = modified.drop(['Close', 'Volume', 'Adj Close', 'Date'], 1)\n",
    "labels = modified['Close']\n",
    "\n"
   ]
  },
  {
   "cell_type": "code",
   "execution_count": 12,
   "id": "382945ec",
   "metadata": {
    "scrolled": true
   },
   "outputs": [
    {
     "name": "stdout",
     "output_type": "stream",
     "text": [
      "\n",
      "Melhores features: \n",
      "{'Volume': 568.3495821764052, 'Adj Close': 567.7914898775999, 'mm5d': 348.71474277998976, 'mm21d': 318.91380161979157}\n"
     ]
    }
   ],
   "source": [
    "# Escolhendo as melhores features\n",
    "features_list = ('Open', 'Adj Close', 'Volume', 'mm5d', 'mm21d')\n",
    "\n",
    "k_best_features = SelectKBest(k='all')\n",
    "k_best_features.fit_transform(features, labels)\n",
    "k_best_features_scores = k_best_features.scores_\n",
    "raw_pairs = zip(features_list[1:], k_best_features_scores)\n",
    "ordered_pairs = list(reversed(sorted(raw_pairs, key=lambda x:x[1])))\n",
    "\n",
    "k_best_features_final = dict(ordered_pairs[:15])\n",
    "best_features = k_best_features_final.keys()\n",
    "\n",
    "print ('')\n",
    "print ('Melhores features: ')\n",
    "print (k_best_features_final)"
   ]
  },
  {
   "cell_type": "code",
   "execution_count": 13,
   "id": "f5f5d593",
   "metadata": {},
   "outputs": [
    {
     "name": "stdout",
     "output_type": "stream",
     "text": [
      "features:  (3050, 5)\n",
      "[[0.34403547 0.34105753 0.33327258 0.33239049 0.32396438]\n",
      " [0.34955291 0.35555796 0.3489145  0.338132   0.32486149]\n",
      " [0.35322406 0.35650952 0.35096221 0.3442547  0.32598102]\n",
      " ...\n",
      " [0.74982557 0.73715398 0.75448941 0.76463046 0.8428571 ]\n",
      " [0.74169967 0.7459667  0.74123827 0.7609811  0.83572314]\n",
      " [0.75517127 0.73407223 0.74004824 0.75880448 0.82871894]]\n"
     ]
    }
   ],
   "source": [
    "# Normalizando as features\n",
    "\n",
    "scaler = MinMaxScaler().fit(features)\n",
    "features_scale = scaler.transform(features)\n",
    "\n",
    "print('features: ', features_scale.shape)\n",
    "print(features_scale)"
   ]
  },
  {
   "cell_type": "code",
   "execution_count": 14,
   "id": "f5223561",
   "metadata": {},
   "outputs": [
    {
     "name": "stdout",
     "output_type": "stream",
     "text": [
      "2135 2135\n",
      "824 824\n"
     ]
    }
   ],
   "source": [
    "X_train = features_scale[0:qtd_linhas_treino]\n",
    "X_test = features_scale[qtd_linhas_treino: qtd_linhas_treino + qtd_linhas_teste]\n",
    "\n",
    "y_train = labels[:qtd_linhas_treino]\n",
    "y_test = labels[qtd_linhas_treino:qtd_linhas_treino + qtd_linhas_teste]\n",
    "\n",
    "print( len(X_train), len(y_train))\n",
    "print( len(X_test), len(y_test))\n"
   ]
  },
  {
   "cell_type": "code",
   "execution_count": 15,
   "id": "72266673",
   "metadata": {},
   "outputs": [
    {
     "data": {
      "text/plain": [
       "'Coeficiente de determinção: 98.39'"
      ]
     },
     "execution_count": 15,
     "metadata": {},
     "output_type": "execute_result"
    }
   ],
   "source": [
    "lr = linear_model.LinearRegression()\n",
    "lr.fit(X_train, y_train)\n",
    "pred = lr.predict(X_test)\n",
    "cd = r2_score(y_test, pred)\n",
    "\n",
    "f'Coeficiente de determinção: {cd * 100:.2f}'"
   ]
  },
  {
   "cell_type": "code",
   "execution_count": 16,
   "id": "a5ca27f0",
   "metadata": {},
   "outputs": [],
   "source": [
    "# Executando a Previsão\n",
    "\n",
    "previsao=features_scale[qtd_linhas_teste:qtd_linhas]\n",
    "\n",
    "date_full=modified['Date']\n",
    "date=date_full[qtd_linhas_teste:qtd_linhas]\n",
    "\n",
    "res_full=modified['Close']\n",
    "res=res_full[qtd_linhas_teste:qtd_linhas]\n",
    "\n",
    "pred=lr.predict(previsao)\n",
    "\n",
    "df=pd.DataFrame({'Date': date, 'Real': res, 'Previsão': pred})\n",
    "df['Real'] = df['Real'].shift(-1)\n",
    "\n",
    "df.set_index('Date', inplace=True)"
   ]
  },
  {
   "cell_type": "code",
   "execution_count": 18,
   "id": "5ea93747",
   "metadata": {},
   "outputs": [
    {
     "data": {
      "text/html": [
       "<div>\n",
       "<style scoped>\n",
       "    .dataframe tbody tr th:only-of-type {\n",
       "        vertical-align: middle;\n",
       "    }\n",
       "\n",
       "    .dataframe tbody tr th {\n",
       "        vertical-align: top;\n",
       "    }\n",
       "\n",
       "    .dataframe thead th {\n",
       "        text-align: right;\n",
       "    }\n",
       "</style>\n",
       "<table border=\"1\" class=\"dataframe\">\n",
       "  <thead>\n",
       "    <tr style=\"text-align: right;\">\n",
       "      <th></th>\n",
       "      <th>Real</th>\n",
       "      <th>Previsão</th>\n",
       "    </tr>\n",
       "    <tr>\n",
       "      <th>Date</th>\n",
       "      <th></th>\n",
       "      <th></th>\n",
       "    </tr>\n",
       "  </thead>\n",
       "  <tbody>\n",
       "    <tr>\n",
       "      <th>2013-05-07</th>\n",
       "      <td>55448.000000</td>\n",
       "      <td>56101.920974</td>\n",
       "    </tr>\n",
       "    <tr>\n",
       "      <th>2013-05-08</th>\n",
       "      <td>55108.000000</td>\n",
       "      <td>56285.866157</td>\n",
       "    </tr>\n",
       "    <tr>\n",
       "      <th>2013-05-09</th>\n",
       "      <td>54448.000000</td>\n",
       "      <td>55348.478762</td>\n",
       "    </tr>\n",
       "    <tr>\n",
       "      <th>2013-05-10</th>\n",
       "      <td>54667.000000</td>\n",
       "      <td>55036.647629</td>\n",
       "    </tr>\n",
       "    <tr>\n",
       "      <th>2013-05-13</th>\n",
       "      <td>54936.000000</td>\n",
       "      <td>54634.028433</td>\n",
       "    </tr>\n",
       "    <tr>\n",
       "      <th>...</th>\n",
       "      <td>...</td>\n",
       "      <td>...</td>\n",
       "    </tr>\n",
       "    <tr>\n",
       "      <th>2022-04-28</th>\n",
       "      <td>106639.000000</td>\n",
       "      <td>109866.667678</td>\n",
       "    </tr>\n",
       "    <tr>\n",
       "      <th>2022-04-29</th>\n",
       "      <td>106528.000000</td>\n",
       "      <td>109497.221604</td>\n",
       "    </tr>\n",
       "    <tr>\n",
       "      <th>2022-05-02</th>\n",
       "      <td>108344.000000</td>\n",
       "      <td>105702.763410</td>\n",
       "    </tr>\n",
       "    <tr>\n",
       "      <th>2022-05-03</th>\n",
       "      <td>106337.101562</td>\n",
       "      <td>106494.099976</td>\n",
       "    </tr>\n",
       "    <tr>\n",
       "      <th>2022-05-04</th>\n",
       "      <td>NaN</td>\n",
       "      <td>106669.854123</td>\n",
       "    </tr>\n",
       "  </tbody>\n",
       "</table>\n",
       "<p>2226 rows × 2 columns</p>\n",
       "</div>"
      ],
      "text/plain": [
       "                     Real       Previsão\n",
       "Date                                    \n",
       "2013-05-07   55448.000000   56101.920974\n",
       "2013-05-08   55108.000000   56285.866157\n",
       "2013-05-09   54448.000000   55348.478762\n",
       "2013-05-10   54667.000000   55036.647629\n",
       "2013-05-13   54936.000000   54634.028433\n",
       "...                   ...            ...\n",
       "2022-04-28  106639.000000  109866.667678\n",
       "2022-04-29  106528.000000  109497.221604\n",
       "2022-05-02  108344.000000  105702.763410\n",
       "2022-05-03  106337.101562  106494.099976\n",
       "2022-05-04            NaN  106669.854123\n",
       "\n",
       "[2226 rows x 2 columns]"
      ]
     },
     "execution_count": 18,
     "metadata": {},
     "output_type": "execute_result"
    }
   ],
   "source": [
    "df"
   ]
  },
  {
   "cell_type": "code",
   "execution_count": 17,
   "id": "a21e4f5f",
   "metadata": {},
   "outputs": [
    {
     "data": {
      "text/html": [
       "<div>\n",
       "<style scoped>\n",
       "    .dataframe tbody tr th:only-of-type {\n",
       "        vertical-align: middle;\n",
       "    }\n",
       "\n",
       "    .dataframe tbody tr th {\n",
       "        vertical-align: top;\n",
       "    }\n",
       "\n",
       "    .dataframe thead th {\n",
       "        text-align: right;\n",
       "    }\n",
       "</style>\n",
       "<table border=\"1\" class=\"dataframe\">\n",
       "  <thead>\n",
       "    <tr style=\"text-align: right;\">\n",
       "      <th></th>\n",
       "      <th>Date</th>\n",
       "      <th>High</th>\n",
       "      <th>Low</th>\n",
       "      <th>Open</th>\n",
       "      <th>Close</th>\n",
       "      <th>Volume</th>\n",
       "      <th>Adj Close</th>\n",
       "      <th>mm5d</th>\n",
       "      <th>mm21d</th>\n",
       "    </tr>\n",
       "  </thead>\n",
       "  <tbody>\n",
       "    <tr>\n",
       "      <th>20</th>\n",
       "      <td>2010-01-04</td>\n",
       "      <td>70081.0</td>\n",
       "      <td>68587.0</td>\n",
       "      <td>68587.0</td>\n",
       "      <td>70240.000000</td>\n",
       "      <td>1655400.0</td>\n",
       "      <td>70045.0</td>\n",
       "      <td>68484.0</td>\n",
       "      <td>68201.666667</td>\n",
       "    </tr>\n",
       "    <tr>\n",
       "      <th>21</th>\n",
       "      <td>2010-01-05</td>\n",
       "      <td>70595.0</td>\n",
       "      <td>69928.0</td>\n",
       "      <td>70046.0</td>\n",
       "      <td>70729.000000</td>\n",
       "      <td>1984200.0</td>\n",
       "      <td>70240.0</td>\n",
       "      <td>69014.2</td>\n",
       "      <td>68282.333333</td>\n",
       "    </tr>\n",
       "    <tr>\n",
       "      <th>22</th>\n",
       "      <td>2010-01-06</td>\n",
       "      <td>70937.0</td>\n",
       "      <td>70016.0</td>\n",
       "      <td>70237.0</td>\n",
       "      <td>70451.000000</td>\n",
       "      <td>2243600.0</td>\n",
       "      <td>70729.0</td>\n",
       "      <td>69579.6</td>\n",
       "      <td>68383.000000</td>\n",
       "    </tr>\n",
       "    <tr>\n",
       "      <th>23</th>\n",
       "      <td>2010-01-07</td>\n",
       "      <td>70723.0</td>\n",
       "      <td>70045.0</td>\n",
       "      <td>70723.0</td>\n",
       "      <td>70263.000000</td>\n",
       "      <td>1555000.0</td>\n",
       "      <td>70451.0</td>\n",
       "      <td>70010.6</td>\n",
       "      <td>68484.714286</td>\n",
       "    </tr>\n",
       "    <tr>\n",
       "      <th>24</th>\n",
       "      <td>2010-01-08</td>\n",
       "      <td>70766.0</td>\n",
       "      <td>70158.0</td>\n",
       "      <td>70455.0</td>\n",
       "      <td>70433.000000</td>\n",
       "      <td>1634400.0</td>\n",
       "      <td>70263.0</td>\n",
       "      <td>70345.6</td>\n",
       "      <td>68611.333333</td>\n",
       "    </tr>\n",
       "    <tr>\n",
       "      <th>...</th>\n",
       "      <td>...</td>\n",
       "      <td>...</td>\n",
       "      <td>...</td>\n",
       "      <td>...</td>\n",
       "      <td>...</td>\n",
       "      <td>...</td>\n",
       "      <td>...</td>\n",
       "      <td>...</td>\n",
       "      <td>...</td>\n",
       "    </tr>\n",
       "    <tr>\n",
       "      <th>3065</th>\n",
       "      <td>2022-04-28</td>\n",
       "      <td>110702.0</td>\n",
       "      <td>108905.0</td>\n",
       "      <td>109349.0</td>\n",
       "      <td>107876.000000</td>\n",
       "      <td>11129900.0</td>\n",
       "      <td>109919.0</td>\n",
       "      <td>109848.8</td>\n",
       "      <td>116086.476190</td>\n",
       "    </tr>\n",
       "    <tr>\n",
       "      <th>3066</th>\n",
       "      <td>2022-04-29</td>\n",
       "      <td>111819.0</td>\n",
       "      <td>107876.0</td>\n",
       "      <td>109922.0</td>\n",
       "      <td>106639.000000</td>\n",
       "      <td>13662200.0</td>\n",
       "      <td>107876.0</td>\n",
       "      <td>109208.4</td>\n",
       "      <td>115508.476190</td>\n",
       "    </tr>\n",
       "    <tr>\n",
       "      <th>3067</th>\n",
       "      <td>2022-05-02</td>\n",
       "      <td>107884.0</td>\n",
       "      <td>105218.0</td>\n",
       "      <td>107876.0</td>\n",
       "      <td>106528.000000</td>\n",
       "      <td>11935100.0</td>\n",
       "      <td>106639.0</td>\n",
       "      <td>108399.2</td>\n",
       "      <td>114859.857143</td>\n",
       "    </tr>\n",
       "    <tr>\n",
       "      <th>3068</th>\n",
       "      <td>2022-05-03</td>\n",
       "      <td>107127.0</td>\n",
       "      <td>106033.0</td>\n",
       "      <td>106640.0</td>\n",
       "      <td>108344.000000</td>\n",
       "      <td>9935500.0</td>\n",
       "      <td>106528.0</td>\n",
       "      <td>108062.2</td>\n",
       "      <td>114218.380952</td>\n",
       "    </tr>\n",
       "    <tr>\n",
       "      <th>3069</th>\n",
       "      <td>2022-05-04</td>\n",
       "      <td>108382.0</td>\n",
       "      <td>104933.0</td>\n",
       "      <td>106529.0</td>\n",
       "      <td>106337.101562</td>\n",
       "      <td>0.0</td>\n",
       "      <td>108344.0</td>\n",
       "      <td>107861.2</td>\n",
       "      <td>113588.571429</td>\n",
       "    </tr>\n",
       "  </tbody>\n",
       "</table>\n",
       "<p>3050 rows × 9 columns</p>\n",
       "</div>"
      ],
      "text/plain": [
       "           Date      High       Low      Open          Close      Volume  \\\n",
       "20   2010-01-04   70081.0   68587.0   68587.0   70240.000000   1655400.0   \n",
       "21   2010-01-05   70595.0   69928.0   70046.0   70729.000000   1984200.0   \n",
       "22   2010-01-06   70937.0   70016.0   70237.0   70451.000000   2243600.0   \n",
       "23   2010-01-07   70723.0   70045.0   70723.0   70263.000000   1555000.0   \n",
       "24   2010-01-08   70766.0   70158.0   70455.0   70433.000000   1634400.0   \n",
       "...         ...       ...       ...       ...            ...         ...   \n",
       "3065 2022-04-28  110702.0  108905.0  109349.0  107876.000000  11129900.0   \n",
       "3066 2022-04-29  111819.0  107876.0  109922.0  106639.000000  13662200.0   \n",
       "3067 2022-05-02  107884.0  105218.0  107876.0  106528.000000  11935100.0   \n",
       "3068 2022-05-03  107127.0  106033.0  106640.0  108344.000000   9935500.0   \n",
       "3069 2022-05-04  108382.0  104933.0  106529.0  106337.101562         0.0   \n",
       "\n",
       "      Adj Close      mm5d          mm21d  \n",
       "20      70045.0   68484.0   68201.666667  \n",
       "21      70240.0   69014.2   68282.333333  \n",
       "22      70729.0   69579.6   68383.000000  \n",
       "23      70451.0   70010.6   68484.714286  \n",
       "24      70263.0   70345.6   68611.333333  \n",
       "...         ...       ...            ...  \n",
       "3065   109919.0  109848.8  116086.476190  \n",
       "3066   107876.0  109208.4  115508.476190  \n",
       "3067   106639.0  108399.2  114859.857143  \n",
       "3068   106528.0  108062.2  114218.380952  \n",
       "3069   108344.0  107861.2  113588.571429  \n",
       "\n",
       "[3050 rows x 9 columns]"
      ]
     },
     "execution_count": 17,
     "metadata": {},
     "output_type": "execute_result"
    }
   ],
   "source": [
    "modified"
   ]
  },
  {
   "cell_type": "code",
   "execution_count": 22,
   "id": "b4fcb925",
   "metadata": {},
   "outputs": [
    {
     "data": {
      "text/plain": [
       "Text(0, 0.5, 'Preço de Fechamento')"
      ]
     },
     "execution_count": 22,
     "metadata": {},
     "output_type": "execute_result"
    },
    {
     "data": {
      "image/png": "[encoded data removed]",
      "text/plain": [
       "<Figure size 1152x576 with 1 Axes>"
      ]
     },
     "metadata": {
      "needs_background": "light"
     },
     "output_type": "display_data"
    }
   ],
   "source": [
    "#grafico\n",
    "plt.figure(figsize=(16,8))\n",
    "plt.title('Preço das Ações Bovespa')\n",
    "plt.plot(df['Real'], label=\"real\", color='blue')\n",
    "plt.plot(df['Previsão'], label=\"previsao\", color='red')\n",
    "plt.xlabel('Data')\n",
    "plt.ylabel('Preço de Fechamento')\n"
   ]
  },
  {
   "cell_type": "code",
   "execution_count": null,
   "id": "6ee9048d",
   "metadata": {},
   "outputs": [],
   "source": []
  },
  {
   "cell_type": "code",
   "execution_count": null,
   "id": "4282be7c",
   "metadata": {},
   "outputs": [],
   "source": []
  }
 ],
 "metadata": {
  "kernelspec": {
   "display_name": "Python 3 (ipykernel)",
   "language": "python",
   "name": "python3"
  },
  "language_info": {
   "codemirror_mode": {
    "name": "ipython",
    "version": 3
   },
   "file_extension": ".py",
   "mimetype": "text/x-python",
   "name": "python",
   "nbconvert_exporter": "python",
   "pygments_lexer": "ipython3",
   "version": "3.9.9"
  }
 },
 "nbformat": 4,
 "nbformat_minor": 5
}
